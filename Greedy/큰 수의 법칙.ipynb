{
 "cells": [
  {
   "cell_type": "markdown",
   "id": "0bde385c",
   "metadata": {},
   "source": [
    "## 큰 수의 법칙\n",
    "\n",
    "'큰 수의 법칙'은 다양한 수로 이루어진 배열이 있을 때, 주어진 수들을 M번 더하여 가장 큰 수를 만드는 법칙이다.\n",
    "\n",
    "단, 배열의 특정한 인덱스(번호)에 해당하는 수가 연속해서 K번을 초과할 수 없는 것이 이 법칙의 특징이다.\n",
    "\n",
    "\n",
    "＊입력 조건\n",
    "\n",
    "    첫째 줄에 N(2≤N≤10,000), M(1≤M≤10,000), K(1≤K≤10,000)의 자연수가 주어지며, 각 자연수는 공백으로 구분한다.\n",
    "    둘째 줄에 N개의 자연수가 주어진다. 각 자연수는 공백으로 구분한다. 단, 각각의 자연수는 1 이상 10,000 이하의 수로 주어진다.\n",
    "    입력으로 주어지는 K는 항상 M보다 작거나 같다.\n",
    "\n",
    "\n",
    "＊출력 조건\n",
    "\n",
    "    첫째 줄에 큰 수의 법칙에 따라 더해진 답을 출력한다.\n",
    "    \n",
    "ex)\n",
    "입력예시\n",
    "5 8 3\n",
    "2 4 5 4 6\n",
    "\n",
    "출력예시\n",
    "46"
   ]
  },
  {
   "cell_type": "code",
   "execution_count": 6,
   "id": "6e1fc86b",
   "metadata": {},
   "outputs": [
    {
     "name": "stdout",
     "output_type": "stream",
     "text": [
      "3 1000 3\n",
      "1 4 6\n",
      "5500\n"
     ]
    }
   ],
   "source": [
    "# N, M, K를 공백으로 구분하여 입력받기\n",
    "n, m, k = map(int, input().split())\n",
    "\n",
    "# N개의 수를 공백으로 구분하여 입력받기\n",
    "data = list(map(int, input().split()))\n",
    "\n",
    "data.sort()  # 입력받은 수들 정렬하기\n",
    "firstLargest = data[n-1]  # 가장 큰 수\n",
    "secondeLargest = data[n-2]  # 두 번째로 큰 수\n",
    "\n",
    "sum = 0\n",
    "\n",
    "while m != 0:\n",
    "    for i in range(k):  # 가장 큰 수를 K번 더하기\n",
    "        sum += firstLargest\n",
    "        m -= 1\n",
    "    sum += secondeLargest  # 두 번째로 큰 수를 한 번 더하기\n",
    "    m-= 1\n",
    "print(sum)"
   ]
  },
  {
   "cell_type": "markdown",
   "id": "b2065ca5",
   "metadata": {},
   "source": [
    "### 해결 및 개선\n",
    "\n",
    "가장 큰 수와 두 번째로 큰 수만 번갈아가며 사용\n",
    "\n",
    "연속으로 더할 수 있는 횟수는 최대 K번이므로 '가장 큰 수를 K번 더하고 두 번째로 큰 수를 한 번 더하는 연산'을 반복하면 됩니다!\n",
    "\n",
    "N : 주어진 자연수 개수\n",
    "M : 더할 수 있는 전체 횟수\n",
    "K : 연속으로 더할 수 있는 횟수\n",
    "\n",
    "K+1 : 수열의 길이\n",
    "M/(K+1)* K : 수열 반복 횟수 * 큰 수의 등장횟수\n",
    "\n",
    "\n",
    "가장 큰 수가 더해지는 횟수 : M/(K+1) * K + M % (K+1)"
   ]
  },
  {
   "cell_type": "code",
   "execution_count": 10,
   "id": "3ec27cbd",
   "metadata": {},
   "outputs": [
    {
     "name": "stdout",
     "output_type": "stream",
     "text": [
      "3 1000 3\n",
      "1 4 6\n",
      "5500\n"
     ]
    }
   ],
   "source": [
    "# N, M, K를 공백으로 구분하여 입력받기\n",
    "n, m, k = map(int, input().split())\n",
    "\n",
    "# N개의 수를 공백으로 구분하여 입력받기\n",
    "data = list(map(int, input().split()))\n",
    "\n",
    "data.sort() # 입력받은 수들 정렬하기\n",
    "first = data[n-1] # 가장 큰 수\n",
    "second = data[n-2] # 두 번째로 큰 수\n",
    "\n",
    "# 가장 큰 수가 더해지는 횟수 계산\n",
    "count = int(m/(k+1)) * k\n",
    "count += m % (k+1)\n",
    "\n",
    "result = 0\n",
    "result += (count) * first # 가장 큰 수 더하기\n",
    "result += (m - count) * second # 두 번째로 큰 수 더하기\n",
    "\n",
    "print(result)"
   ]
  },
  {
   "cell_type": "code",
   "execution_count": null,
   "id": "8b1da606",
   "metadata": {},
   "outputs": [],
   "source": []
  }
 ],
 "metadata": {
  "kernelspec": {
   "display_name": "Python 3 (ipykernel)",
   "language": "python",
   "name": "python3"
  },
  "language_info": {
   "codemirror_mode": {
    "name": "ipython",
    "version": 3
   },
   "file_extension": ".py",
   "mimetype": "text/x-python",
   "name": "python",
   "nbconvert_exporter": "python",
   "pygments_lexer": "ipython3",
   "version": "3.9.15"
  }
 },
 "nbformat": 4,
 "nbformat_minor": 5
}
